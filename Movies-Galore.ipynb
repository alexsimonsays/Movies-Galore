{
 "cells": [
  {
   "cell_type": "code",
   "execution_count": 1,
   "metadata": {},
   "outputs": [],
   "source": [
    "import pandas as pd\n",
    "import os\n",
    "import numpy as np\n",
    "import matplotlib.pyplot as plt\n",
    "\n",
    "pd.set_option('max_columns', 99)\n",
    "pd.set_option('max_rows', 20)"
   ]
  },
  {
   "cell_type": "code",
   "execution_count": 2,
   "metadata": {},
   "outputs": [],
   "source": [
    "movies = pd.read_csv('./datasets/movies.csv')\n",
    "links = pd.read_csv('./datasets/links.csv')\n",
    "ratings = pd.read_csv('./datasets/ratings.csv')\n",
    "tags = pd.read_csv('./datasets/tags.csv')"
   ]
  },
  {
   "cell_type": "markdown",
   "metadata": {},
   "source": [
    "### Movies and Links"
   ]
  },
  {
   "cell_type": "code",
   "execution_count": 3,
   "metadata": {
    "scrolled": true
   },
   "outputs": [],
   "source": [
    "df = pd.merge(movies, links)\n",
    "df.columns = df.columns.str.lower()\n",
    "df.rename(columns={'movieid':'movie_id', 'imdbid':'imdb_id', 'tmdbid':'tmdb_id'}, inplace=True)"
   ]
  },
  {
   "cell_type": "code",
   "execution_count": 4,
   "metadata": {
    "scrolled": true
   },
   "outputs": [],
   "source": [
    "# dataframe with all movies whose title has an extra space at the end\n",
    "spaces = df.loc[df['title'].str[-1] == ' ']\n",
    "\n",
    "# getting rid of that extra space\n",
    "for i in spaces['title']:\n",
    "    df.replace(to_replace = {'title': i},\n",
    "                value = i[:-1],\n",
    "                inplace = True)\n",
    "\n",
    "# fixing an individual row that was formatted differently\n",
    "df.replace(to_replace = {'title':'Death Note: Desu nôto (2006–2007)'},\n",
    "           value = 'Death Note: Desu nôto (2006)',\n",
    "           inplace = True)"
   ]
  },
  {
   "cell_type": "code",
   "execution_count": 5,
   "metadata": {},
   "outputs": [],
   "source": [
    "# creating a new column for release year\n",
    "release_years = []\n",
    "for i in df['title']:\n",
    "    release_years.append(i[-5:-1])\n",
    "df['release_year'] = release_years\n",
    "\n",
    "# getting rid of the year from the title column for\n",
    "# the majority of movies which have it listed there\n",
    "\n",
    "majority = df.loc[df['title'].str[-1] == ')']\n",
    "anomalies = df.loc[df['title'].str[-1] != ')']\n",
    "\n",
    "for i in majority['title']:\n",
    "    df.replace(to_replace = {'title': i},\n",
    "                value = i[:-7],\n",
    "                inplace = True)\n",
    "\n",
    "# fixing another individual row that is formatted differently\n",
    "df.replace(to_replace = {'title':'Angst '},\n",
    "           value = 'Angst',\n",
    "           inplace = True)"
   ]
  },
  {
   "cell_type": "code",
   "execution_count": 6,
   "metadata": {
    "scrolled": true
   },
   "outputs": [
    {
     "name": "stderr",
     "output_type": "stream",
     "text": [
      "/opt/anaconda3/lib/python3.7/site-packages/ipykernel_launcher.py:5: SettingWithCopyWarning: \n",
      "A value is trying to be set on a copy of a slice from a DataFrame\n",
      "\n",
      "See the caveats in the documentation: https://pandas.pydata.org/pandas-docs/stable/user_guide/indexing.html#returning-a-view-versus-a-copy\n",
      "  \"\"\"\n",
      "/opt/anaconda3/lib/python3.7/site-packages/ipykernel_launcher.py:6: SettingWithCopyWarning: \n",
      "A value is trying to be set on a copy of a slice from a DataFrame\n",
      "\n",
      "See the caveats in the documentation: https://pandas.pydata.org/pandas-docs/stable/user_guide/indexing.html#returning-a-view-versus-a-copy\n",
      "  \n",
      "/opt/anaconda3/lib/python3.7/site-packages/ipykernel_launcher.py:7: SettingWithCopyWarning: \n",
      "A value is trying to be set on a copy of a slice from a DataFrame\n",
      "\n",
      "See the caveats in the documentation: https://pandas.pydata.org/pandas-docs/stable/user_guide/indexing.html#returning-a-view-versus-a-copy\n",
      "  import sys\n",
      "/opt/anaconda3/lib/python3.7/site-packages/ipykernel_launcher.py:8: SettingWithCopyWarning: \n",
      "A value is trying to be set on a copy of a slice from a DataFrame\n",
      "\n",
      "See the caveats in the documentation: https://pandas.pydata.org/pandas-docs/stable/user_guide/indexing.html#returning-a-view-versus-a-copy\n",
      "  \n",
      "/opt/anaconda3/lib/python3.7/site-packages/ipykernel_launcher.py:9: SettingWithCopyWarning: \n",
      "A value is trying to be set on a copy of a slice from a DataFrame\n",
      "\n",
      "See the caveats in the documentation: https://pandas.pydata.org/pandas-docs/stable/user_guide/indexing.html#returning-a-view-versus-a-copy\n",
      "  if __name__ == '__main__':\n",
      "/opt/anaconda3/lib/python3.7/site-packages/ipykernel_launcher.py:10: SettingWithCopyWarning: \n",
      "A value is trying to be set on a copy of a slice from a DataFrame\n",
      "\n",
      "See the caveats in the documentation: https://pandas.pydata.org/pandas-docs/stable/user_guide/indexing.html#returning-a-view-versus-a-copy\n",
      "  # Remove the CWD from sys.path while we load stuff.\n",
      "/opt/anaconda3/lib/python3.7/site-packages/ipykernel_launcher.py:11: SettingWithCopyWarning: \n",
      "A value is trying to be set on a copy of a slice from a DataFrame\n",
      "\n",
      "See the caveats in the documentation: https://pandas.pydata.org/pandas-docs/stable/user_guide/indexing.html#returning-a-view-versus-a-copy\n",
      "  # This is added back by InteractiveShellApp.init_path()\n",
      "/opt/anaconda3/lib/python3.7/site-packages/ipykernel_launcher.py:12: SettingWithCopyWarning: \n",
      "A value is trying to be set on a copy of a slice from a DataFrame\n",
      "\n",
      "See the caveats in the documentation: https://pandas.pydata.org/pandas-docs/stable/user_guide/indexing.html#returning-a-view-versus-a-copy\n",
      "  if sys.path[0] == '':\n",
      "/opt/anaconda3/lib/python3.7/site-packages/ipykernel_launcher.py:13: SettingWithCopyWarning: \n",
      "A value is trying to be set on a copy of a slice from a DataFrame\n",
      "\n",
      "See the caveats in the documentation: https://pandas.pydata.org/pandas-docs/stable/user_guide/indexing.html#returning-a-view-versus-a-copy\n",
      "  del sys.path[0]\n",
      "/opt/anaconda3/lib/python3.7/site-packages/ipykernel_launcher.py:14: SettingWithCopyWarning: \n",
      "A value is trying to be set on a copy of a slice from a DataFrame\n",
      "\n",
      "See the caveats in the documentation: https://pandas.pydata.org/pandas-docs/stable/user_guide/indexing.html#returning-a-view-versus-a-copy\n",
      "  \n",
      "/opt/anaconda3/lib/python3.7/site-packages/ipykernel_launcher.py:15: SettingWithCopyWarning: \n",
      "A value is trying to be set on a copy of a slice from a DataFrame\n",
      "\n",
      "See the caveats in the documentation: https://pandas.pydata.org/pandas-docs/stable/user_guide/indexing.html#returning-a-view-versus-a-copy\n",
      "  from ipykernel import kernelapp as app\n",
      "/opt/anaconda3/lib/python3.7/site-packages/ipykernel_launcher.py:16: SettingWithCopyWarning: \n",
      "A value is trying to be set on a copy of a slice from a DataFrame\n",
      "\n",
      "See the caveats in the documentation: https://pandas.pydata.org/pandas-docs/stable/user_guide/indexing.html#returning-a-view-versus-a-copy\n",
      "  app.launch_new_instance()\n"
     ]
    }
   ],
   "source": [
    "# taking care of the anomalies manually.\n",
    "# I looked up the release years on IMDB, because figuring out how to code a web scrape on imdb\n",
    "# would have taken me more time than Dr. Strange has access to.\n",
    "\n",
    "df['release_year'][6059] = 1993\n",
    "df['release_year'][9031] = 2018\n",
    "df['release_year'][9091] = 2015\n",
    "df['release_year'][9138] = 1980\n",
    "df['release_year'][9179] = 2016\n",
    "df['release_year'][9259] = 2016\n",
    "df['release_year'][9367] = 2016\n",
    "df['release_year'][9448] = 2016\n",
    "df['release_year'][9514] = 1980\n",
    "df['release_year'][9515] = 2017\n",
    "df['release_year'][9525] = 2017\n",
    "df['release_year'][9611] = 2011\n",
    "\n",
    "# changing release_year column to numerical type\n",
    "df['release_year'] = df['release_year'].astype(int)\n",
    "\n",
    "df.dtypes;"
   ]
  },
  {
   "cell_type": "code",
   "execution_count": 7,
   "metadata": {},
   "outputs": [],
   "source": [
    "# dropping null values\n",
    "# df.isnull().sum()\n",
    "# df['tmdb_id'].loc[df['tmdb_id'].isnull()==True]\n",
    "df.dropna(inplace=True)"
   ]
  },
  {
   "cell_type": "markdown",
   "metadata": {},
   "source": [
    "### Ratings"
   ]
  },
  {
   "cell_type": "code",
   "execution_count": 8,
   "metadata": {},
   "outputs": [],
   "source": [
    "# lowercase, renaming, and dropping timestamp column\n",
    "\n",
    "ratings.columns = ratings.columns.str.lower()\n",
    "ratings.rename(columns={'movieid':'movie_id', 'userid':'user_id'}, inplace=True)\n",
    "ratings.drop(columns = ['timestamp'], inplace=True)"
   ]
  },
  {
   "cell_type": "code",
   "execution_count": 9,
   "metadata": {},
   "outputs": [
    {
     "data": {
      "text/html": [
       "<div>\n",
       "<style scoped>\n",
       "    .dataframe tbody tr th:only-of-type {\n",
       "        vertical-align: middle;\n",
       "    }\n",
       "\n",
       "    .dataframe tbody tr th {\n",
       "        vertical-align: top;\n",
       "    }\n",
       "\n",
       "    .dataframe thead th {\n",
       "        text-align: right;\n",
       "    }\n",
       "</style>\n",
       "<table border=\"1\" class=\"dataframe\">\n",
       "  <thead>\n",
       "    <tr style=\"text-align: right;\">\n",
       "      <th></th>\n",
       "      <th>user_id</th>\n",
       "      <th>movie_id</th>\n",
       "      <th>rating</th>\n",
       "    </tr>\n",
       "  </thead>\n",
       "  <tbody>\n",
       "    <tr>\n",
       "      <th>0</th>\n",
       "      <td>1</td>\n",
       "      <td>1</td>\n",
       "      <td>4.0</td>\n",
       "    </tr>\n",
       "    <tr>\n",
       "      <th>1</th>\n",
       "      <td>1</td>\n",
       "      <td>3</td>\n",
       "      <td>4.0</td>\n",
       "    </tr>\n",
       "    <tr>\n",
       "      <th>2</th>\n",
       "      <td>1</td>\n",
       "      <td>6</td>\n",
       "      <td>4.0</td>\n",
       "    </tr>\n",
       "    <tr>\n",
       "      <th>3</th>\n",
       "      <td>1</td>\n",
       "      <td>47</td>\n",
       "      <td>5.0</td>\n",
       "    </tr>\n",
       "    <tr>\n",
       "      <th>4</th>\n",
       "      <td>1</td>\n",
       "      <td>50</td>\n",
       "      <td>5.0</td>\n",
       "    </tr>\n",
       "  </tbody>\n",
       "</table>\n",
       "</div>"
      ],
      "text/plain": [
       "   user_id  movie_id  rating\n",
       "0        1         1     4.0\n",
       "1        1         3     4.0\n",
       "2        1         6     4.0\n",
       "3        1        47     5.0\n",
       "4        1        50     5.0"
      ]
     },
     "execution_count": 9,
     "metadata": {},
     "output_type": "execute_result"
    }
   ],
   "source": [
    "ratings.head()"
   ]
  },
  {
   "cell_type": "code",
   "execution_count": 10,
   "metadata": {},
   "outputs": [],
   "source": [
    "# new columns for mean, max, min, median, and number of ratings for each movie\n",
    "\n",
    "avg_ratings = []\n",
    "for i in df['movie_id']:\n",
    "    avg_rating = ratings.loc[ratings['movie_id']==i]['rating'].mean()\n",
    "    avg_ratings.append(avg_rating)\n",
    "df['avg_rating'] = avg_ratings\n",
    "\n",
    "max_ratings = []\n",
    "for i in df['movie_id']:\n",
    "    max_rating = ratings.loc[ratings['movie_id']==i]['rating'].max()\n",
    "    max_ratings.append(max_rating)\n",
    "df['max_rating'] = max_ratings\n",
    "\n",
    "min_ratings = []\n",
    "for i in df['movie_id']:\n",
    "    min_rating = ratings.loc[ratings['movie_id']==i]['rating'].min()\n",
    "    min_ratings.append(min_rating)\n",
    "df['min_rating'] = min_ratings\n",
    "\n",
    "med_ratings = []\n",
    "for i in df['movie_id']:\n",
    "    med_rating = ratings.loc[ratings['movie_id']==i]['rating'].median()\n",
    "    med_ratings.append(med_rating)\n",
    "df['med_rating'] = med_ratings\n",
    "\n",
    "numb_ratings = []\n",
    "for i in df['movie_id']:\n",
    "    numb_rating = ratings.loc[ratings['movie_id']==i]['rating'].count()\n",
    "    numb_ratings.append(numb_rating)\n",
    "df['numb_rating'] = numb_ratings"
   ]
  },
  {
   "cell_type": "code",
   "execution_count": 11,
   "metadata": {
    "scrolled": true
   },
   "outputs": [
    {
     "data": {
      "text/html": [
       "<div>\n",
       "<style scoped>\n",
       "    .dataframe tbody tr th:only-of-type {\n",
       "        vertical-align: middle;\n",
       "    }\n",
       "\n",
       "    .dataframe tbody tr th {\n",
       "        vertical-align: top;\n",
       "    }\n",
       "\n",
       "    .dataframe thead th {\n",
       "        text-align: right;\n",
       "    }\n",
       "</style>\n",
       "<table border=\"1\" class=\"dataframe\">\n",
       "  <thead>\n",
       "    <tr style=\"text-align: right;\">\n",
       "      <th></th>\n",
       "      <th>movie_id</th>\n",
       "      <th>title</th>\n",
       "      <th>genres</th>\n",
       "      <th>imdb_id</th>\n",
       "      <th>tmdb_id</th>\n",
       "      <th>release_year</th>\n",
       "      <th>avg_rating</th>\n",
       "      <th>max_rating</th>\n",
       "      <th>min_rating</th>\n",
       "      <th>med_rating</th>\n",
       "      <th>numb_rating</th>\n",
       "    </tr>\n",
       "  </thead>\n",
       "  <tbody>\n",
       "    <tr>\n",
       "      <th>0</th>\n",
       "      <td>1</td>\n",
       "      <td>Toy Story</td>\n",
       "      <td>Adventure|Animation|Children|Comedy|Fantasy</td>\n",
       "      <td>114709</td>\n",
       "      <td>862.0</td>\n",
       "      <td>1995</td>\n",
       "      <td>3.920930</td>\n",
       "      <td>5.0</td>\n",
       "      <td>0.5</td>\n",
       "      <td>4.0</td>\n",
       "      <td>215</td>\n",
       "    </tr>\n",
       "    <tr>\n",
       "      <th>1</th>\n",
       "      <td>2</td>\n",
       "      <td>Jumanji</td>\n",
       "      <td>Adventure|Children|Fantasy</td>\n",
       "      <td>113497</td>\n",
       "      <td>8844.0</td>\n",
       "      <td>1995</td>\n",
       "      <td>3.431818</td>\n",
       "      <td>5.0</td>\n",
       "      <td>0.5</td>\n",
       "      <td>3.5</td>\n",
       "      <td>110</td>\n",
       "    </tr>\n",
       "    <tr>\n",
       "      <th>2</th>\n",
       "      <td>3</td>\n",
       "      <td>Grumpier Old Men</td>\n",
       "      <td>Comedy|Romance</td>\n",
       "      <td>113228</td>\n",
       "      <td>15602.0</td>\n",
       "      <td>1995</td>\n",
       "      <td>3.259615</td>\n",
       "      <td>5.0</td>\n",
       "      <td>0.5</td>\n",
       "      <td>3.0</td>\n",
       "      <td>52</td>\n",
       "    </tr>\n",
       "    <tr>\n",
       "      <th>3</th>\n",
       "      <td>4</td>\n",
       "      <td>Waiting to Exhale</td>\n",
       "      <td>Comedy|Drama|Romance</td>\n",
       "      <td>114885</td>\n",
       "      <td>31357.0</td>\n",
       "      <td>1995</td>\n",
       "      <td>2.357143</td>\n",
       "      <td>3.0</td>\n",
       "      <td>1.0</td>\n",
       "      <td>3.0</td>\n",
       "      <td>7</td>\n",
       "    </tr>\n",
       "    <tr>\n",
       "      <th>4</th>\n",
       "      <td>5</td>\n",
       "      <td>Father of the Bride Part II</td>\n",
       "      <td>Comedy</td>\n",
       "      <td>113041</td>\n",
       "      <td>11862.0</td>\n",
       "      <td>1995</td>\n",
       "      <td>3.071429</td>\n",
       "      <td>5.0</td>\n",
       "      <td>0.5</td>\n",
       "      <td>3.0</td>\n",
       "      <td>49</td>\n",
       "    </tr>\n",
       "  </tbody>\n",
       "</table>\n",
       "</div>"
      ],
      "text/plain": [
       "   movie_id                        title  \\\n",
       "0         1                    Toy Story   \n",
       "1         2                      Jumanji   \n",
       "2         3             Grumpier Old Men   \n",
       "3         4            Waiting to Exhale   \n",
       "4         5  Father of the Bride Part II   \n",
       "\n",
       "                                        genres  imdb_id  tmdb_id  \\\n",
       "0  Adventure|Animation|Children|Comedy|Fantasy   114709    862.0   \n",
       "1                   Adventure|Children|Fantasy   113497   8844.0   \n",
       "2                               Comedy|Romance   113228  15602.0   \n",
       "3                         Comedy|Drama|Romance   114885  31357.0   \n",
       "4                                       Comedy   113041  11862.0   \n",
       "\n",
       "   release_year  avg_rating  max_rating  min_rating  med_rating  numb_rating  \n",
       "0          1995    3.920930         5.0         0.5         4.0          215  \n",
       "1          1995    3.431818         5.0         0.5         3.5          110  \n",
       "2          1995    3.259615         5.0         0.5         3.0           52  \n",
       "3          1995    2.357143         3.0         1.0         3.0            7  \n",
       "4          1995    3.071429         5.0         0.5         3.0           49  "
      ]
     },
     "execution_count": 11,
     "metadata": {},
     "output_type": "execute_result"
    }
   ],
   "source": [
    "df.head()"
   ]
  },
  {
   "cell_type": "markdown",
   "metadata": {},
   "source": [
    "# TO DO next:\n",
    "look for correlations between:\n",
    "    -reviewer and genres\n",
    "    -reviewer and release_year\n",
    "    -reviewer and avg_rating of movies (are they biased towareds good/bad films? This would help with the recommender system)"
   ]
  },
  {
   "cell_type": "code",
   "execution_count": 12,
   "metadata": {
    "scrolled": true
   },
   "outputs": [
    {
     "data": {
      "text/plain": [
       "Drama                                      0.108075\n",
       "Comedy                                     0.097082\n",
       "Comedy|Drama                               0.044689\n",
       "Comedy|Romance                             0.037292\n",
       "Drama|Romance                              0.035854\n",
       "                                             ...   \n",
       "Adventure|Animation|Comedy|Fantasy|IMAX    0.000103\n",
       "Horror|Thriller|Western                    0.000103\n",
       "Drama|Fantasy|Horror|Romance|Thriller      0.000103\n",
       "Action|Adventure|Sci-Fi|War|IMAX           0.000103\n",
       "Action|Animation|Crime|Sci-Fi              0.000103\n",
       "Name: genres, Length: 951, dtype: float64"
      ]
     },
     "execution_count": 12,
     "metadata": {},
     "output_type": "execute_result"
    }
   ],
   "source": [
    "df['genres'].value_counts(normalize = True)"
   ]
  },
  {
   "cell_type": "code",
   "execution_count": null,
   "metadata": {},
   "outputs": [],
   "source": []
  },
  {
   "cell_type": "code",
   "execution_count": null,
   "metadata": {},
   "outputs": [],
   "source": []
  },
  {
   "cell_type": "code",
   "execution_count": null,
   "metadata": {},
   "outputs": [],
   "source": []
  },
  {
   "cell_type": "code",
   "execution_count": null,
   "metadata": {},
   "outputs": [],
   "source": []
  },
  {
   "cell_type": "code",
   "execution_count": null,
   "metadata": {},
   "outputs": [],
   "source": []
  },
  {
   "cell_type": "code",
   "execution_count": null,
   "metadata": {},
   "outputs": [],
   "source": []
  },
  {
   "cell_type": "code",
   "execution_count": null,
   "metadata": {},
   "outputs": [],
   "source": []
  },
  {
   "cell_type": "code",
   "execution_count": null,
   "metadata": {},
   "outputs": [],
   "source": []
  }
 ],
 "metadata": {
  "kernelspec": {
   "display_name": "Python 3",
   "language": "python",
   "name": "python3"
  },
  "language_info": {
   "codemirror_mode": {
    "name": "ipython",
    "version": 3
   },
   "file_extension": ".py",
   "mimetype": "text/x-python",
   "name": "python",
   "nbconvert_exporter": "python",
   "pygments_lexer": "ipython3",
   "version": "3.7.7"
  }
 },
 "nbformat": 4,
 "nbformat_minor": 4
}
